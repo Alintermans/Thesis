{
 "cells": [
  {
   "cell_type": "code",
   "execution_count": null,
   "metadata": {},
   "outputs": [],
   "source": [
    "import os\n",
    "import sys\n",
    "from SongUtils import divide_song_into_paragraphs\n",
    "from GPTLineGenerator import generate_parodie_line\n",
    "\n",
    "initial_text_prompt = \"You're a parodie genrator that will write beatifull parodies and make sure that the syllable count of the parodie is the same as the original song\\n\"\n",
    "\n",
    "context = \"The new parodie will be about that pineaple shouldn't be on pizza\\n\"\n",
    "\n",
    "original_song = \"\"\n",
    "\n",
    "original_song_file_path = 'Experiments/GPT-2Constraints/songs/it_is_over_now-taylor_swift.txt'\n",
    "original_song_file = open(original_song_file_path, 'r')\n",
    "original_song += original_song_file.read()\n",
    "original_song_file.close()\n",
    "\n",
    "paragraps = divide_song_into_paragraphs(original_song)\n",
    "\n",
    "original_song = \"ORIGINAL SONG: \\n\\n\" + original_song \n",
    "\n",
    "parodie = \"\\n\\nPARODIE: \\n\\n\"\n",
    "\n",
    "prompt = initial_text_prompt + context + original_song + parodie\n",
    "\n",
    "# generate line per line\n",
    "for paragraph in paragraps:\n",
    "    parodie += paragraph[0] + \"\\n\"\n",
    "    prompt += paragraph[0] + \"\\n\"\n",
    "    for line in paragraph[1]:\n",
    "        result = generate_parodie_line(prompt, line) + \"\\n\"\n",
    "        parodie += result\n",
    "        prompt += result\n",
    "        print(line, \" | \",result)\n",
    "    parodie += \"\\n\"\n",
    "    prompt += \"\\n\"\n",
    "\n",
    "print(\"Paordie: \", parodie)\n",
    "\n"
   ]
  }
 ],
 "metadata": {
  "language_info": {
   "name": "python"
  }
 },
 "nbformat": 4,
 "nbformat_minor": 2
}
